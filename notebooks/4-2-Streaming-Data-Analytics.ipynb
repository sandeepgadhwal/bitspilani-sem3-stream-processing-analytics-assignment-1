{
 "cells": [
  {
   "cell_type": "code",
   "execution_count": 1,
   "id": "47eaf6ec",
   "metadata": {},
   "outputs": [],
   "source": [
    "%load_ext autoreload \n",
    "%autoreload 2"
   ]
  },
  {
   "cell_type": "code",
   "execution_count": null,
   "id": "913041a8",
   "metadata": {},
   "outputs": [],
   "source": []
  },
  {
   "cell_type": "code",
   "execution_count": 2,
   "id": "98b9aa50",
   "metadata": {},
   "outputs": [],
   "source": [
    "import sys\n",
    "import os"
   ]
  },
  {
   "cell_type": "code",
   "execution_count": 3,
   "id": "c70b9c88",
   "metadata": {},
   "outputs": [],
   "source": [
    "sys.path.append(os.path.dirname(os.path.abspath('.')))"
   ]
  },
  {
   "cell_type": "code",
   "execution_count": null,
   "id": "6b19ecd1",
   "metadata": {},
   "outputs": [],
   "source": []
  },
  {
   "cell_type": "code",
   "execution_count": 4,
   "id": "b319eb18",
   "metadata": {},
   "outputs": [],
   "source": [
    "from comlib.database import execute"
   ]
  },
  {
   "cell_type": "code",
   "execution_count": null,
   "id": "7c7648c6",
   "metadata": {},
   "outputs": [],
   "source": []
  },
  {
   "cell_type": "code",
   "execution_count": 5,
   "id": "e57b7ff2",
   "metadata": {},
   "outputs": [
    {
     "data": {
      "text/plain": [
       "<cassandra.cluster.ResultSet at 0x7f9570217e50>"
      ]
     },
     "execution_count": 5,
     "metadata": {},
     "output_type": "execute_result"
    }
   ],
   "source": [
    "execute(\"\"\"\n",
    "DROP TABLE IF EXISTS comapp.post_stats ;\n",
    "\"\"\")\n",
    "execute(\"\"\"\n",
    "CREATE TABLE comapp.post_stats (\n",
    "    post_uuid varchar,\n",
    "    post_author_uuid varchar,\n",
    "    is_offensive INT, \n",
    "    is_age_restricted INT, \n",
    "    is_group_message INT, \n",
    "    is_global_message INT, \n",
    "    contains_media INT,\n",
    "    post_timestamp timestamp,\n",
    "    PRIMARY KEY (( post_author_uuid), post_timestamp)\n",
    "    );\n",
    "\"\"\")"
   ]
  },
  {
   "cell_type": "code",
   "execution_count": null,
   "id": "8b8a2fb5",
   "metadata": {},
   "outputs": [],
   "source": []
  },
  {
   "cell_type": "code",
   "execution_count": 6,
   "id": "d00e51bf",
   "metadata": {},
   "outputs": [],
   "source": [
    "from json import loads\n",
    "from kafka import KafkaConsumer\n",
    "import time"
   ]
  },
  {
   "cell_type": "code",
   "execution_count": 7,
   "id": "b4d726fa",
   "metadata": {},
   "outputs": [],
   "source": [
    "consumer = KafkaConsumer(\n",
    "    'post-stream',\n",
    "     bootstrap_servers=['localhost:9092'],\n",
    "     auto_offset_reset='earliest',\n",
    "     enable_auto_commit=True,\n",
    "     group_id='my-group',\n",
    "     value_deserializer=lambda x: loads(x.decode('utf-8'))\n",
    ")"
   ]
  },
  {
   "cell_type": "code",
   "execution_count": null,
   "id": "074d444f",
   "metadata": {},
   "outputs": [
    {
     "name": "stdout",
     "output_type": "stream",
     "text": [
      "-- Consuming Speed: 1060.13 Posts Per Second | total Posts: 410868                         \r"
     ]
    }
   ],
   "source": [
    "start1 = start = time.time()\n",
    "c = 0\n",
    "for row in consumer:\n",
    "    drow = row.value\n",
    "    is_offensive = int(drow['post_author_uuid'].startswith('a'))\n",
    "    is_age_restricted =  int((drow['post_url_slug'] % 100) == 0)\n",
    "    is_group_message =  int(drow['post_scope'] == 'group')\n",
    "    is_global_message =  int(drow['post_scope'] == 'global')\n",
    "    contains_media =  int(len(drow['post_media']) > 0)\n",
    "    #\n",
    "    post_author_uuid = drow['post_author_uuid'].replace(\"'\", \"`\")\n",
    "    q = f\"\"\"\n",
    "    INSERT INTO comapp.post_stats (\n",
    "        post_uuid,\n",
    "        post_author_uuid,\n",
    "        is_offensive, \n",
    "        is_age_restricted, \n",
    "        is_group_message, \n",
    "        is_global_message, \n",
    "        contains_media,\n",
    "        post_timestamp\n",
    "    )\n",
    "    VALUES (\n",
    "        '{drow['post_uuid']}',        \n",
    "        '{post_author_uuid}',\n",
    "        {is_offensive},\n",
    "        {is_age_restricted},\n",
    "        {is_group_message},\n",
    "        {is_global_message},\n",
    "        {contains_media},\n",
    "        toTimeStamp(now())\n",
    "    )\n",
    "    \"\"\"\n",
    "    execute(q)\n",
    "    c+=1\n",
    "    if time.time() - start1 > 1:\n",
    "        start1 = time.time()\n",
    "        speed = c/(start1-start)\n",
    "        speed = f\"{(speed):0.2f}\"\n",
    "        m = f\"-- Consuming Speed: { speed } Posts Per Second | total Posts: {c}                         \"\n",
    "        print(m, end='\\r')"
   ]
  },
  {
   "cell_type": "code",
   "execution_count": null,
   "id": "52e60f15",
   "metadata": {},
   "outputs": [],
   "source": []
  },
  {
   "cell_type": "code",
   "execution_count": null,
   "id": "43fdeb57",
   "metadata": {},
   "outputs": [],
   "source": []
  },
  {
   "cell_type": "code",
   "execution_count": null,
   "id": "edac6022",
   "metadata": {},
   "outputs": [],
   "source": []
  },
  {
   "cell_type": "code",
   "execution_count": null,
   "id": "040ee446",
   "metadata": {},
   "outputs": [],
   "source": []
  }
 ],
 "metadata": {
  "kernelspec": {
   "display_name": "Python 3",
   "language": "python",
   "name": "python3"
  },
  "language_info": {
   "codemirror_mode": {
    "name": "ipython",
    "version": 3
   },
   "file_extension": ".py",
   "mimetype": "text/x-python",
   "name": "python",
   "nbconvert_exporter": "python",
   "pygments_lexer": "ipython3",
   "version": "3.8.8"
  }
 },
 "nbformat": 4,
 "nbformat_minor": 5
}
