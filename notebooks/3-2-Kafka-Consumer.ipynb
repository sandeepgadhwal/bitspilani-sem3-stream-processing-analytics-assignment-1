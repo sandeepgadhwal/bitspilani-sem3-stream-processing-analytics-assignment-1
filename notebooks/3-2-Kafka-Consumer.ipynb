{
 "cells": [
  {
   "cell_type": "code",
   "execution_count": 1,
   "id": "3a34803d",
   "metadata": {},
   "outputs": [],
   "source": [
    "from json import loads\n",
    "from kafka import KafkaConsumer\n",
    "import time"
   ]
  },
  {
   "cell_type": "code",
   "execution_count": null,
   "id": "dd065de8",
   "metadata": {},
   "outputs": [],
   "source": []
  },
  {
   "cell_type": "code",
   "execution_count": null,
   "id": "3006ab78",
   "metadata": {},
   "outputs": [],
   "source": []
  },
  {
   "cell_type": "code",
   "execution_count": 2,
   "id": "e3d440bc",
   "metadata": {},
   "outputs": [],
   "source": [
    "consumer = KafkaConsumer(\n",
    "    'post-stream',\n",
    "     bootstrap_servers=['localhost:9092'],\n",
    "     auto_offset_reset='earliest',\n",
    "     enable_auto_commit=True,\n",
    "     group_id='my-group',\n",
    "     value_deserializer=lambda x: loads(x.decode('utf-8')))"
   ]
  },
  {
   "cell_type": "code",
   "execution_count": null,
   "id": "6c8cf36e",
   "metadata": {},
   "outputs": [],
   "source": []
  },
  {
   "cell_type": "code",
   "execution_count": 3,
   "id": "a6c59882",
   "metadata": {},
   "outputs": [
    {
     "name": "stdout",
     "output_type": "stream",
     "text": [
      "{'idx': 2, 'datetime': '2021-09-02 00:06:15.534726', 'timedelta': -1.0021398067474365, 'message': 'Python Kafka producer producing a row.'}\n",
      "{'idx': 3, 'datetime': '2021-09-02 00:06:16.536379', 'timedelta': -2.0037944316864014, 'message': 'Python Kafka producer producing a row.'}\n",
      "{'idx': 4, 'datetime': '2021-09-02 00:06:17.538012', 'timedelta': -3.0054523944854736, 'message': 'Python Kafka producer producing a row.'}\n",
      "{'idx': 5, 'datetime': '2021-09-02 00:06:18.539885', 'timedelta': -4.007300615310669, 'message': 'Python Kafka producer producing a row.'}\n",
      "{'idx': 6, 'datetime': '2021-09-02 00:06:19.541610', 'timedelta': -5.009027004241943, 'message': 'Python Kafka producer producing a row.'}\n",
      "{'idx': 7, 'datetime': '2021-09-02 00:06:20.542760', 'timedelta': -6.010179042816162, 'message': 'Python Kafka producer producing a row.'}\n",
      "{'idx': 8, 'datetime': '2021-09-02 00:06:21.544546', 'timedelta': -7.011961460113525, 'message': 'Python Kafka producer producing a row.'}\n",
      "{'idx': 9, 'datetime': '2021-09-02 00:06:22.546169', 'timedelta': -8.013594627380371, 'message': 'Python Kafka producer producing a row.'}\n",
      "{'idx': 10, 'datetime': '2021-09-02 00:06:23.548084', 'timedelta': -9.015499114990234, 'message': 'Python Kafka producer producing a row.'}\n",
      "{'idx': 11, 'datetime': '2021-09-02 00:06:24.549798', 'timedelta': -10.017213106155396, 'message': 'Python Kafka producer producing a row.'}\n",
      "{'idx': 12, 'datetime': '2021-09-02 00:06:25.551513', 'timedelta': -11.018940448760986, 'message': 'Python Kafka producer producing a row.'}\n",
      "{'idx': 13, 'datetime': '2021-09-02 00:06:26.553560', 'timedelta': -12.020976066589355, 'message': 'Python Kafka producer producing a row.'}\n",
      "{'idx': 14, 'datetime': '2021-09-02 00:06:27.554762', 'timedelta': -13.02217984199524, 'message': 'Python Kafka producer producing a row.'}\n",
      "{'idx': 15, 'datetime': '2021-09-02 00:06:28.556706', 'timedelta': -14.024121284484863, 'message': 'Python Kafka producer producing a row.'}\n",
      "{'idx': 16, 'datetime': '2021-09-02 00:06:29.558330', 'timedelta': -15.025710344314575, 'message': 'Python Kafka producer producing a row.'}\n",
      "{'idx': 17, 'datetime': '2021-09-02 00:06:30.559785', 'timedelta': -16.02720069885254, 'message': 'Python Kafka producer producing a row.'}\n",
      "{'idx': 18, 'datetime': '2021-09-02 00:06:31.561599', 'timedelta': -17.029014348983765, 'message': 'Python Kafka producer producing a row.'}\n",
      "{'idx': 19, 'datetime': '2021-09-02 00:06:32.563286', 'timedelta': -18.030702352523804, 'message': 'Python Kafka producer producing a row.'}\n",
      "{'idx': 20, 'datetime': '2021-09-02 00:06:33.565143', 'timedelta': -19.032527208328247, 'message': 'Python Kafka producer producing a row.'}\n",
      "{'idx': 21, 'datetime': '2021-09-02 00:06:34.566428', 'timedelta': -20.03381037712097, 'message': 'Python Kafka producer producing a row.'}\n",
      "{'idx': 22, 'datetime': '2021-09-02 00:06:35.566977', 'timedelta': -21.03439211845398, 'message': 'Python Kafka producer producing a row.'}\n",
      "{'idx': 23, 'datetime': '2021-09-02 00:06:36.568662', 'timedelta': -22.03607749938965, 'message': 'Python Kafka producer producing a row.'}\n",
      "{'idx': 24, 'datetime': '2021-09-02 00:06:37.570363', 'timedelta': -23.037777423858643, 'message': 'Python Kafka producer producing a row.'}\n",
      "{'idx': 25, 'datetime': '2021-09-02 00:06:38.572077', 'timedelta': -24.03949213027954, 'message': 'Python Kafka producer producing a row.'}\n",
      "{'idx': 26, 'datetime': '2021-09-02 00:06:39.573742', 'timedelta': -25.041157484054565, 'message': 'Python Kafka producer producing a row.'}\n",
      "{'idx': 27, 'datetime': '2021-09-02 00:06:40.574728', 'timedelta': -26.042142152786255, 'message': 'Python Kafka producer producing a row.'}\n",
      "{'idx': 28, 'datetime': '2021-09-02 00:06:41.576442', 'timedelta': -27.043856143951416, 'message': 'Python Kafka producer producing a row.'}\n",
      "{'idx': 29, 'datetime': '2021-09-02 00:06:42.578218', 'timedelta': -28.04560923576355, 'message': 'Python Kafka producer producing a row.'}\n",
      "{'idx': 30, 'datetime': '2021-09-02 00:06:43.578744', 'timedelta': -29.046173095703125, 'message': 'Python Kafka producer producing a row.'}\n",
      "{'idx': 31, 'datetime': '2021-09-02 00:06:44.580442', 'timedelta': -30.047858953475952, 'message': 'Python Kafka producer producing a row.'}\n",
      "{'idx': 32, 'datetime': '2021-09-02 00:06:45.582490', 'timedelta': -31.049906253814697, 'message': 'Python Kafka producer producing a row.'}\n",
      "{'idx': 33, 'datetime': '2021-09-02 00:06:46.584207', 'timedelta': -32.051623821258545, 'message': 'Python Kafka producer producing a row.'}\n",
      "{'idx': 34, 'datetime': '2021-09-02 00:06:47.586159', 'timedelta': -33.05357360839844, 'message': 'Python Kafka producer producing a row.'}\n",
      "{'idx': 35, 'datetime': '2021-09-02 00:06:48.588192', 'timedelta': -34.05560851097107, 'message': 'Python Kafka producer producing a row.'}\n",
      "{'idx': 36, 'datetime': '2021-09-02 00:06:49.590193', 'timedelta': -35.05762314796448, 'message': 'Python Kafka producer producing a row.'}\n",
      "{'idx': 37, 'datetime': '2021-09-02 00:06:50.591989', 'timedelta': -36.05940580368042, 'message': 'Python Kafka producer producing a row.'}\n",
      "{'idx': 38, 'datetime': '2021-09-02 00:06:51.594009', 'timedelta': -37.061424255371094, 'message': 'Python Kafka producer producing a row.'}\n",
      "{'idx': 39, 'datetime': '2021-09-02 00:06:52.595992', 'timedelta': -38.06340837478638, 'message': 'Python Kafka producer producing a row.'}\n",
      "{'idx': 40, 'datetime': '2021-09-02 00:06:53.597953', 'timedelta': -39.06536889076233, 'message': 'Python Kafka producer producing a row.'}\n",
      "{'idx': 41, 'datetime': '2021-09-02 00:06:54.599086', 'timedelta': -40.06647706031799, 'message': 'Python Kafka producer producing a row.'}\n",
      "{'idx': 42, 'datetime': '2021-09-02 00:06:55.600420', 'timedelta': -41.06781578063965, 'message': 'Python Kafka producer producing a row.'}\n",
      "{'idx': 43, 'datetime': '2021-09-02 00:06:56.601378', 'timedelta': -42.06879472732544, 'message': 'Python Kafka producer producing a row.'}\n",
      "{'idx': 44, 'datetime': '2021-09-02 00:06:57.603154', 'timedelta': -43.07056927680969, 'message': 'Python Kafka producer producing a row.'}\n",
      "{'idx': 45, 'datetime': '2021-09-02 00:06:58.604811', 'timedelta': -44.07221007347107, 'message': 'Python Kafka producer producing a row.'}\n",
      "{'idx': 46, 'datetime': '2021-09-02 00:06:59.606332', 'timedelta': -45.07374858856201, 'message': 'Python Kafka producer producing a row.'}\n",
      "{'idx': 47, 'datetime': '2021-09-02 00:07:00.608074', 'timedelta': -46.07548975944519, 'message': 'Python Kafka producer producing a row.'}\n",
      "{'idx': 48, 'datetime': '2021-09-02 00:07:01.610100', 'timedelta': -47.07751774787903, 'message': 'Python Kafka producer producing a row.'}\n",
      "{'idx': 49, 'datetime': '2021-09-02 00:07:02.611102', 'timedelta': -48.07851982116699, 'message': 'Python Kafka producer producing a row.'}\n",
      "{'idx': 50, 'datetime': '2021-09-02 00:07:03.612765', 'timedelta': -49.080179929733276, 'message': 'Python Kafka producer producing a row.'}\n",
      "{'idx': 51, 'datetime': '2021-09-02 00:07:04.614567', 'timedelta': -50.082005739212036, 'message': 'Python Kafka producer producing a row.'}\n",
      "{'idx': 52, 'datetime': '2021-09-02 00:07:05.616389', 'timedelta': -51.0838041305542, 'message': 'Python Kafka producer producing a row.'}\n",
      "{'idx': 53, 'datetime': '2021-09-02 00:07:06.618079', 'timedelta': -52.08551001548767, 'message': 'Python Kafka producer producing a row.'}\n",
      "{'idx': 54, 'datetime': '2021-09-02 00:07:07.619951', 'timedelta': -53.08736705780029, 'message': 'Python Kafka producer producing a row.'}\n",
      "{'idx': 55, 'datetime': '2021-09-02 00:07:08.621692', 'timedelta': -54.08910584449768, 'message': 'Python Kafka producer producing a row.'}\n",
      "{'idx': 56, 'datetime': '2021-09-02 00:07:09.623498', 'timedelta': -55.09091401100159, 'message': 'Python Kafka producer producing a row.'}\n",
      "{'idx': 57, 'datetime': '2021-09-02 00:07:10.625568', 'timedelta': -56.092984437942505, 'message': 'Python Kafka producer producing a row.'}\n",
      "{'idx': 58, 'datetime': '2021-09-02 00:07:11.627450', 'timedelta': -57.094865798950195, 'message': 'Python Kafka producer producing a row.'}\n",
      "{'idx': 59, 'datetime': '2021-09-02 00:07:12.629168', 'timedelta': -58.09658360481262, 'message': 'Python Kafka producer producing a row.'}\n",
      "{'idx': 60, 'datetime': '2021-09-02 00:07:13.630753', 'timedelta': -59.09816908836365, 'message': 'Python Kafka producer producing a row.'}\n",
      "{'idx': 61, 'datetime': '2021-09-02 00:07:14.632740', 'timedelta': -60.10015606880188, 'message': 'Python Kafka producer producing a row.'}\n",
      "{'idx': 62, 'datetime': '2021-09-02 00:07:15.634426', 'timedelta': -61.101834535598755, 'message': 'Python Kafka producer producing a row.'}\n"
     ]
    },
    {
     "name": "stdout",
     "output_type": "stream",
     "text": [
      "{'idx': 63, 'datetime': '2021-09-02 00:07:16.635383', 'timedelta': -62.10277056694031, 'message': 'Python Kafka producer producing a row.'}\n",
      "{'idx': 64, 'datetime': '2021-09-02 00:07:17.636681', 'timedelta': -63.10407757759094, 'message': 'Python Kafka producer producing a row.'}\n",
      "{'idx': 65, 'datetime': '2021-09-02 00:07:18.637241', 'timedelta': -64.10464262962341, 'message': 'Python Kafka producer producing a row.'}\n",
      "{'idx': 66, 'datetime': '2021-09-02 00:07:19.638754', 'timedelta': -65.10616898536682, 'message': 'Python Kafka producer producing a row.'}\n",
      "{'idx': 67, 'datetime': '2021-09-02 00:07:20.640389', 'timedelta': -66.10779285430908, 'message': 'Python Kafka producer producing a row.'}\n",
      "{'idx': 68, 'datetime': '2021-09-02 00:07:21.642177', 'timedelta': -67.10959124565125, 'message': 'Python Kafka producer producing a row.'}\n",
      "{'idx': 69, 'datetime': '2021-09-02 00:07:22.642928', 'timedelta': -68.11034345626831, 'message': 'Python Kafka producer producing a row.'}\n",
      "{'idx': 70, 'datetime': '2021-09-02 00:07:23.644840', 'timedelta': -69.11225533485413, 'message': 'Python Kafka producer producing a row.'}\n",
      "{'idx': 71, 'datetime': '2021-09-02 00:07:24.646491', 'timedelta': -70.11389923095703, 'message': 'Python Kafka producer producing a row.'}\n",
      "{'idx': 72, 'datetime': '2021-09-02 00:07:25.648294', 'timedelta': -71.11570882797241, 'message': 'Python Kafka producer producing a row.'}\n",
      "{'idx': 73, 'datetime': '2021-09-02 00:07:26.649983', 'timedelta': -72.11739897727966, 'message': 'Python Kafka producer producing a row.'}\n",
      "{'idx': 74, 'datetime': '2021-09-02 00:07:27.650990', 'timedelta': -73.11840558052063, 'message': 'Python Kafka producer producing a row.'}\n",
      "{'idx': 75, 'datetime': '2021-09-02 00:07:28.653052', 'timedelta': -74.12047505378723, 'message': 'Python Kafka producer producing a row.'}\n",
      "{'idx': 76, 'datetime': '2021-09-02 00:07:29.654765', 'timedelta': -75.12218022346497, 'message': 'Python Kafka producer producing a row.'}\n",
      "{'idx': 77, 'datetime': '2021-09-02 00:07:30.656646', 'timedelta': -76.1240611076355, 'message': 'Python Kafka producer producing a row.'}\n",
      "{'idx': 78, 'datetime': '2021-09-02 00:07:31.658524', 'timedelta': -77.12594079971313, 'message': 'Python Kafka producer producing a row.'}\n",
      "{'idx': 79, 'datetime': '2021-09-02 00:07:32.660582', 'timedelta': -78.12799739837646, 'message': 'Python Kafka producer producing a row.'}\n",
      "{'idx': 80, 'datetime': '2021-09-02 00:07:33.662466', 'timedelta': -79.12988018989563, 'message': 'Python Kafka producer producing a row.'}\n",
      "{'idx': 81, 'datetime': '2021-09-02 00:07:34.664406', 'timedelta': -80.13182091712952, 'message': 'Python Kafka producer producing a row.'}\n",
      "{'idx': 82, 'datetime': '2021-09-02 00:07:35.666209', 'timedelta': -81.13363981246948, 'message': 'Python Kafka producer producing a row.'}\n",
      "{'idx': 83, 'datetime': '2021-09-02 00:07:36.667918', 'timedelta': -82.13533544540405, 'message': 'Python Kafka producer producing a row.'}\n",
      "{'idx': 84, 'datetime': '2021-09-02 00:07:37.669753', 'timedelta': -83.13714647293091, 'message': 'Python Kafka producer producing a row.'}\n",
      "{'idx': 85, 'datetime': '2021-09-02 00:07:38.670944', 'timedelta': -84.13832902908325, 'message': 'Python Kafka producer producing a row.'}\n",
      "{'idx': 86, 'datetime': '2021-09-02 00:07:39.672225', 'timedelta': -85.13960576057434, 'message': 'Python Kafka producer producing a row.'}\n",
      "{'idx': 87, 'datetime': '2021-09-02 00:07:40.673880', 'timedelta': -86.14130067825317, 'message': 'Python Kafka producer producing a row.'}\n",
      "{'idx': 88, 'datetime': '2021-09-02 00:07:41.675580', 'timedelta': -87.14299440383911, 'message': 'Python Kafka producer producing a row.'}\n",
      "{'idx': 89, 'datetime': '2021-09-02 00:07:42.676719', 'timedelta': -88.14414119720459, 'message': 'Python Kafka producer producing a row.'}\n",
      "{'idx': 90, 'datetime': '2021-09-02 00:07:43.678496', 'timedelta': -89.145911693573, 'message': 'Python Kafka producer producing a row.'}\n",
      "{'idx': 91, 'datetime': '2021-09-02 00:07:44.680469', 'timedelta': -90.14788389205933, 'message': 'Python Kafka producer producing a row.'}\n",
      "{'idx': 92, 'datetime': '2021-09-02 00:07:45.682096', 'timedelta': -91.14950823783875, 'message': 'Python Kafka producer producing a row.'}\n",
      "{'idx': 93, 'datetime': '2021-09-02 00:07:46.683971', 'timedelta': -92.15138602256775, 'message': 'Python Kafka producer producing a row.'}\n",
      "{'idx': 94, 'datetime': '2021-09-02 00:07:47.685461', 'timedelta': -93.15289902687073, 'message': 'Python Kafka producer producing a row.'}\n",
      "{'idx': 95, 'datetime': '2021-09-02 00:07:48.687636', 'timedelta': -94.15505003929138, 'message': 'Python Kafka producer producing a row.'}\n",
      "{'idx': 96, 'datetime': '2021-09-02 00:07:49.689346', 'timedelta': -95.1567599773407, 'message': 'Python Kafka producer producing a row.'}\n",
      "{'idx': 97, 'datetime': '2021-09-02 00:07:50.691091', 'timedelta': -96.15851283073425, 'message': 'Python Kafka producer producing a row.'}\n",
      "{'idx': 98, 'datetime': '2021-09-02 00:07:51.692931', 'timedelta': -97.16034650802612, 'message': 'Python Kafka producer producing a row.'}\n",
      "{'idx': 99, 'datetime': '2021-09-02 00:07:52.694733', 'timedelta': -98.16214632987976, 'message': 'Python Kafka producer producing a row.'}\n",
      "{'idx': 100, 'datetime': '2021-09-02 00:07:53.696266', 'timedelta': -99.16367936134338, 'message': 'Python Kafka producer producing a row.'}\n",
      "{'idx': 101, 'datetime': '2021-09-02 00:07:54.698089', 'timedelta': -100.16550326347351, 'message': 'Python Kafka producer producing a row.'}\n",
      "{'idx': 102, 'datetime': '2021-09-02 00:07:55.699790', 'timedelta': -101.1672043800354, 'message': 'Python Kafka producer producing a row.'}\n",
      "{'idx': 103, 'datetime': '2021-09-02 00:07:56.701823', 'timedelta': -102.16923713684082, 'message': 'Python Kafka producer producing a row.'}\n",
      "{'idx': 104, 'datetime': '2021-09-02 00:07:57.703029', 'timedelta': -103.17044305801392, 'message': 'Python Kafka producer producing a row.'}\n",
      "{'idx': 105, 'datetime': '2021-09-02 00:07:58.704854', 'timedelta': -104.17228531837463, 'message': 'Python Kafka producer producing a row.'}\n",
      "{'idx': 106, 'datetime': '2021-09-02 00:07:59.706688', 'timedelta': -105.17410373687744, 'message': 'Python Kafka producer producing a row.'}\n",
      "{'idx': 107, 'datetime': '2021-09-02 00:08:00.708496', 'timedelta': -106.17590975761414, 'message': 'Python Kafka producer producing a row.'}\n",
      "{'idx': 108, 'datetime': '2021-09-02 00:08:01.710310', 'timedelta': -107.1777229309082, 'message': 'Python Kafka producer producing a row.'}\n",
      "{'idx': 109, 'datetime': '2021-09-02 00:08:02.711636', 'timedelta': -108.1790509223938, 'message': 'Python Kafka producer producing a row.'}\n",
      "{'idx': 110, 'datetime': '2021-09-02 00:08:03.712951', 'timedelta': -109.18034029006958, 'message': 'Python Kafka producer producing a row.'}\n",
      "{'idx': 111, 'datetime': '2021-09-02 00:08:04.714313', 'timedelta': -110.18169689178467, 'message': 'Python Kafka producer producing a row.'}\n",
      "{'idx': 112, 'datetime': '2021-09-02 00:08:05.714686', 'timedelta': -111.18208146095276, 'message': 'Python Kafka producer producing a row.'}\n",
      "{'idx': 113, 'datetime': '2021-09-02 00:08:06.716298', 'timedelta': -112.18371295928955, 'message': 'Python Kafka producer producing a row.'}\n",
      "{'idx': 114, 'datetime': '2021-09-02 00:08:07.717265', 'timedelta': -113.1846489906311, 'message': 'Python Kafka producer producing a row.'}\n",
      "{'idx': 115, 'datetime': '2021-09-02 00:08:08.718592', 'timedelta': -114.18602538108826, 'message': 'Python Kafka producer producing a row.'}\n",
      "{'idx': 116, 'datetime': '2021-09-02 00:08:09.720280', 'timedelta': -115.18768382072449, 'message': 'Python Kafka producer producing a row.'}\n",
      "{'idx': 117, 'datetime': '2021-09-02 00:08:10.722044', 'timedelta': -116.1894600391388, 'message': 'Python Kafka producer producing a row.'}\n",
      "{'idx': 118, 'datetime': '2021-09-02 00:08:11.723079', 'timedelta': -117.19049382209778, 'message': 'Python Kafka producer producing a row.'}\n",
      "{'idx': 119, 'datetime': '2021-09-02 00:08:12.724767', 'timedelta': -118.19218325614929, 'message': 'Python Kafka producer producing a row.'}\n",
      "{'idx': 120, 'datetime': '2021-09-02 00:08:13.726467', 'timedelta': -119.19388127326965, 'message': 'Python Kafka producer producing a row.'}\n",
      "{'idx': 121, 'datetime': '2021-09-02 00:08:14.728465', 'timedelta': -120.19588112831116, 'message': 'Python Kafka producer producing a row.'}\n"
     ]
    },
    {
     "name": "stdout",
     "output_type": "stream",
     "text": [
      "{'idx': 122, 'datetime': '2021-09-02 00:08:15.730090', 'timedelta': -121.197505235672, 'message': 'Python Kafka producer producing a row.'}\n",
      "{'idx': 123, 'datetime': '2021-09-02 00:08:16.731094', 'timedelta': -122.1985092163086, 'message': 'Python Kafka producer producing a row.'}\n",
      "{'idx': 124, 'datetime': '2021-09-02 00:08:17.733190', 'timedelta': -123.2006049156189, 'message': 'Python Kafka producer producing a row.'}\n",
      "{'idx': 125, 'datetime': '2021-09-02 00:08:18.734740', 'timedelta': -124.20215439796448, 'message': 'Python Kafka producer producing a row.'}\n",
      "{'idx': 126, 'datetime': '2021-09-02 00:08:19.735684', 'timedelta': -125.2031364440918, 'message': 'Python Kafka producer producing a row.'}\n",
      "{'idx': 127, 'datetime': '2021-09-02 00:08:20.737758', 'timedelta': -126.20517420768738, 'message': 'Python Kafka producer producing a row.'}\n",
      "{'idx': 128, 'datetime': '2021-09-02 00:08:21.738739', 'timedelta': -127.20615267753601, 'message': 'Python Kafka producer producing a row.'}\n",
      "{'idx': 129, 'datetime': '2021-09-02 00:08:22.740439', 'timedelta': -128.20785403251648, 'message': 'Python Kafka producer producing a row.'}\n",
      "{'idx': 130, 'datetime': '2021-09-02 00:08:23.742106', 'timedelta': -129.2095398902893, 'message': 'Python Kafka producer producing a row.'}\n",
      "{'idx': 131, 'datetime': '2021-09-02 00:08:24.742690', 'timedelta': -130.2101080417633, 'message': 'Python Kafka producer producing a row.'}\n"
     ]
    },
    {
     "ename": "KeyboardInterrupt",
     "evalue": "",
     "output_type": "error",
     "traceback": [
      "\u001b[0;31m---------------------------------------------------------------------------\u001b[0m",
      "\u001b[0;31mKeyboardInterrupt\u001b[0m                         Traceback (most recent call last)",
      "\u001b[0;32m<ipython-input-3-5ed3218b49d7>\u001b[0m in \u001b[0;36m<module>\u001b[0;34m\u001b[0m\n\u001b[0;32m----> 1\u001b[0;31m \u001b[0;32mfor\u001b[0m \u001b[0mrow\u001b[0m \u001b[0;32min\u001b[0m \u001b[0mconsumer\u001b[0m\u001b[0;34m:\u001b[0m\u001b[0;34m\u001b[0m\u001b[0;34m\u001b[0m\u001b[0m\n\u001b[0m\u001b[1;32m      2\u001b[0m     \u001b[0mprint\u001b[0m\u001b[0;34m(\u001b[0m\u001b[0mrow\u001b[0m\u001b[0;34m.\u001b[0m\u001b[0mvalue\u001b[0m\u001b[0;34m)\u001b[0m\u001b[0;34m\u001b[0m\u001b[0;34m\u001b[0m\u001b[0m\n",
      "\u001b[0;32m~/anaconda3/envs/comappenv/lib/python3.8/site-packages/kafka/consumer/group.py\u001b[0m in \u001b[0;36m__next__\u001b[0;34m(self)\u001b[0m\n\u001b[1;32m   1191\u001b[0m             \u001b[0;32mreturn\u001b[0m \u001b[0mself\u001b[0m\u001b[0;34m.\u001b[0m\u001b[0mnext_v1\u001b[0m\u001b[0;34m(\u001b[0m\u001b[0;34m)\u001b[0m\u001b[0;34m\u001b[0m\u001b[0;34m\u001b[0m\u001b[0m\n\u001b[1;32m   1192\u001b[0m         \u001b[0;32melse\u001b[0m\u001b[0;34m:\u001b[0m\u001b[0;34m\u001b[0m\u001b[0;34m\u001b[0m\u001b[0m\n\u001b[0;32m-> 1193\u001b[0;31m             \u001b[0;32mreturn\u001b[0m \u001b[0mself\u001b[0m\u001b[0;34m.\u001b[0m\u001b[0mnext_v2\u001b[0m\u001b[0;34m(\u001b[0m\u001b[0;34m)\u001b[0m\u001b[0;34m\u001b[0m\u001b[0;34m\u001b[0m\u001b[0m\n\u001b[0m\u001b[1;32m   1194\u001b[0m \u001b[0;34m\u001b[0m\u001b[0m\n\u001b[1;32m   1195\u001b[0m     \u001b[0;32mdef\u001b[0m \u001b[0mnext_v2\u001b[0m\u001b[0;34m(\u001b[0m\u001b[0mself\u001b[0m\u001b[0;34m)\u001b[0m\u001b[0;34m:\u001b[0m\u001b[0;34m\u001b[0m\u001b[0;34m\u001b[0m\u001b[0m\n",
      "\u001b[0;32m~/anaconda3/envs/comappenv/lib/python3.8/site-packages/kafka/consumer/group.py\u001b[0m in \u001b[0;36mnext_v2\u001b[0;34m(self)\u001b[0m\n\u001b[1;32m   1199\u001b[0m                 \u001b[0mself\u001b[0m\u001b[0;34m.\u001b[0m\u001b[0m_iterator\u001b[0m \u001b[0;34m=\u001b[0m \u001b[0mself\u001b[0m\u001b[0;34m.\u001b[0m\u001b[0m_message_generator_v2\u001b[0m\u001b[0;34m(\u001b[0m\u001b[0;34m)\u001b[0m\u001b[0;34m\u001b[0m\u001b[0;34m\u001b[0m\u001b[0m\n\u001b[1;32m   1200\u001b[0m             \u001b[0;32mtry\u001b[0m\u001b[0;34m:\u001b[0m\u001b[0;34m\u001b[0m\u001b[0;34m\u001b[0m\u001b[0m\n\u001b[0;32m-> 1201\u001b[0;31m                 \u001b[0;32mreturn\u001b[0m \u001b[0mnext\u001b[0m\u001b[0;34m(\u001b[0m\u001b[0mself\u001b[0m\u001b[0;34m.\u001b[0m\u001b[0m_iterator\u001b[0m\u001b[0;34m)\u001b[0m\u001b[0;34m\u001b[0m\u001b[0;34m\u001b[0m\u001b[0m\n\u001b[0m\u001b[1;32m   1202\u001b[0m             \u001b[0;32mexcept\u001b[0m \u001b[0mStopIteration\u001b[0m\u001b[0;34m:\u001b[0m\u001b[0;34m\u001b[0m\u001b[0;34m\u001b[0m\u001b[0m\n\u001b[1;32m   1203\u001b[0m                 \u001b[0mself\u001b[0m\u001b[0;34m.\u001b[0m\u001b[0m_iterator\u001b[0m \u001b[0;34m=\u001b[0m \u001b[0;32mNone\u001b[0m\u001b[0;34m\u001b[0m\u001b[0;34m\u001b[0m\u001b[0m\n",
      "\u001b[0;32m~/anaconda3/envs/comappenv/lib/python3.8/site-packages/kafka/consumer/group.py\u001b[0m in \u001b[0;36m_message_generator_v2\u001b[0;34m(self)\u001b[0m\n\u001b[1;32m   1114\u001b[0m     \u001b[0;32mdef\u001b[0m \u001b[0m_message_generator_v2\u001b[0m\u001b[0;34m(\u001b[0m\u001b[0mself\u001b[0m\u001b[0;34m)\u001b[0m\u001b[0;34m:\u001b[0m\u001b[0;34m\u001b[0m\u001b[0;34m\u001b[0m\u001b[0m\n\u001b[1;32m   1115\u001b[0m         \u001b[0mtimeout_ms\u001b[0m \u001b[0;34m=\u001b[0m \u001b[0;36m1000\u001b[0m \u001b[0;34m*\u001b[0m \u001b[0;34m(\u001b[0m\u001b[0mself\u001b[0m\u001b[0;34m.\u001b[0m\u001b[0m_consumer_timeout\u001b[0m \u001b[0;34m-\u001b[0m \u001b[0mtime\u001b[0m\u001b[0;34m.\u001b[0m\u001b[0mtime\u001b[0m\u001b[0;34m(\u001b[0m\u001b[0;34m)\u001b[0m\u001b[0;34m)\u001b[0m\u001b[0;34m\u001b[0m\u001b[0;34m\u001b[0m\u001b[0m\n\u001b[0;32m-> 1116\u001b[0;31m         \u001b[0mrecord_map\u001b[0m \u001b[0;34m=\u001b[0m \u001b[0mself\u001b[0m\u001b[0;34m.\u001b[0m\u001b[0mpoll\u001b[0m\u001b[0;34m(\u001b[0m\u001b[0mtimeout_ms\u001b[0m\u001b[0;34m=\u001b[0m\u001b[0mtimeout_ms\u001b[0m\u001b[0;34m,\u001b[0m \u001b[0mupdate_offsets\u001b[0m\u001b[0;34m=\u001b[0m\u001b[0;32mFalse\u001b[0m\u001b[0;34m)\u001b[0m\u001b[0;34m\u001b[0m\u001b[0;34m\u001b[0m\u001b[0m\n\u001b[0m\u001b[1;32m   1117\u001b[0m         \u001b[0;32mfor\u001b[0m \u001b[0mtp\u001b[0m\u001b[0;34m,\u001b[0m \u001b[0mrecords\u001b[0m \u001b[0;32min\u001b[0m \u001b[0msix\u001b[0m\u001b[0;34m.\u001b[0m\u001b[0miteritems\u001b[0m\u001b[0;34m(\u001b[0m\u001b[0mrecord_map\u001b[0m\u001b[0;34m)\u001b[0m\u001b[0;34m:\u001b[0m\u001b[0;34m\u001b[0m\u001b[0;34m\u001b[0m\u001b[0m\n\u001b[1;32m   1118\u001b[0m             \u001b[0;31m# Generators are stateful, and it is possible that the tp / records\u001b[0m\u001b[0;34m\u001b[0m\u001b[0;34m\u001b[0m\u001b[0;34m\u001b[0m\u001b[0m\n",
      "\u001b[0;32m~/anaconda3/envs/comappenv/lib/python3.8/site-packages/kafka/consumer/group.py\u001b[0m in \u001b[0;36mpoll\u001b[0;34m(self, timeout_ms, max_records, update_offsets)\u001b[0m\n\u001b[1;32m    653\u001b[0m         \u001b[0mremaining\u001b[0m \u001b[0;34m=\u001b[0m \u001b[0mtimeout_ms\u001b[0m\u001b[0;34m\u001b[0m\u001b[0;34m\u001b[0m\u001b[0m\n\u001b[1;32m    654\u001b[0m         \u001b[0;32mwhile\u001b[0m \u001b[0;32mTrue\u001b[0m\u001b[0;34m:\u001b[0m\u001b[0;34m\u001b[0m\u001b[0;34m\u001b[0m\u001b[0m\n\u001b[0;32m--> 655\u001b[0;31m             \u001b[0mrecords\u001b[0m \u001b[0;34m=\u001b[0m \u001b[0mself\u001b[0m\u001b[0;34m.\u001b[0m\u001b[0m_poll_once\u001b[0m\u001b[0;34m(\u001b[0m\u001b[0mremaining\u001b[0m\u001b[0;34m,\u001b[0m \u001b[0mmax_records\u001b[0m\u001b[0;34m,\u001b[0m \u001b[0mupdate_offsets\u001b[0m\u001b[0;34m=\u001b[0m\u001b[0mupdate_offsets\u001b[0m\u001b[0;34m)\u001b[0m\u001b[0;34m\u001b[0m\u001b[0;34m\u001b[0m\u001b[0m\n\u001b[0m\u001b[1;32m    656\u001b[0m             \u001b[0;32mif\u001b[0m \u001b[0mrecords\u001b[0m\u001b[0;34m:\u001b[0m\u001b[0;34m\u001b[0m\u001b[0;34m\u001b[0m\u001b[0m\n\u001b[1;32m    657\u001b[0m                 \u001b[0;32mreturn\u001b[0m \u001b[0mrecords\u001b[0m\u001b[0;34m\u001b[0m\u001b[0;34m\u001b[0m\u001b[0m\n",
      "\u001b[0;32m~/anaconda3/envs/comappenv/lib/python3.8/site-packages/kafka/consumer/group.py\u001b[0m in \u001b[0;36m_poll_once\u001b[0;34m(self, timeout_ms, max_records, update_offsets)\u001b[0m\n\u001b[1;32m    700\u001b[0m \u001b[0;34m\u001b[0m\u001b[0m\n\u001b[1;32m    701\u001b[0m         \u001b[0mtimeout_ms\u001b[0m \u001b[0;34m=\u001b[0m \u001b[0mmin\u001b[0m\u001b[0;34m(\u001b[0m\u001b[0mtimeout_ms\u001b[0m\u001b[0;34m,\u001b[0m \u001b[0mself\u001b[0m\u001b[0;34m.\u001b[0m\u001b[0m_coordinator\u001b[0m\u001b[0;34m.\u001b[0m\u001b[0mtime_to_next_poll\u001b[0m\u001b[0;34m(\u001b[0m\u001b[0;34m)\u001b[0m \u001b[0;34m*\u001b[0m \u001b[0;36m1000\u001b[0m\u001b[0;34m)\u001b[0m\u001b[0;34m\u001b[0m\u001b[0;34m\u001b[0m\u001b[0m\n\u001b[0;32m--> 702\u001b[0;31m         \u001b[0mself\u001b[0m\u001b[0;34m.\u001b[0m\u001b[0m_client\u001b[0m\u001b[0;34m.\u001b[0m\u001b[0mpoll\u001b[0m\u001b[0;34m(\u001b[0m\u001b[0mtimeout_ms\u001b[0m\u001b[0;34m=\u001b[0m\u001b[0mtimeout_ms\u001b[0m\u001b[0;34m)\u001b[0m\u001b[0;34m\u001b[0m\u001b[0;34m\u001b[0m\u001b[0m\n\u001b[0m\u001b[1;32m    703\u001b[0m         \u001b[0;31m# after the long poll, we should check whether the group needs to rebalance\u001b[0m\u001b[0;34m\u001b[0m\u001b[0;34m\u001b[0m\u001b[0;34m\u001b[0m\u001b[0m\n\u001b[1;32m    704\u001b[0m         \u001b[0;31m# prior to returning data so that the group can stabilize faster\u001b[0m\u001b[0;34m\u001b[0m\u001b[0;34m\u001b[0m\u001b[0;34m\u001b[0m\u001b[0m\n",
      "\u001b[0;32m~/anaconda3/envs/comappenv/lib/python3.8/site-packages/kafka/client_async.py\u001b[0m in \u001b[0;36mpoll\u001b[0;34m(self, timeout_ms, future)\u001b[0m\n\u001b[1;32m    600\u001b[0m                     \u001b[0mtimeout\u001b[0m \u001b[0;34m=\u001b[0m \u001b[0mmax\u001b[0m\u001b[0;34m(\u001b[0m\u001b[0;36m0\u001b[0m\u001b[0;34m,\u001b[0m \u001b[0mtimeout\u001b[0m\u001b[0;34m)\u001b[0m  \u001b[0;31m# avoid negative timeouts\u001b[0m\u001b[0;34m\u001b[0m\u001b[0;34m\u001b[0m\u001b[0m\n\u001b[1;32m    601\u001b[0m \u001b[0;34m\u001b[0m\u001b[0m\n\u001b[0;32m--> 602\u001b[0;31m                 \u001b[0mself\u001b[0m\u001b[0;34m.\u001b[0m\u001b[0m_poll\u001b[0m\u001b[0;34m(\u001b[0m\u001b[0mtimeout\u001b[0m \u001b[0;34m/\u001b[0m \u001b[0;36m1000\u001b[0m\u001b[0;34m)\u001b[0m\u001b[0;34m\u001b[0m\u001b[0;34m\u001b[0m\u001b[0m\n\u001b[0m\u001b[1;32m    603\u001b[0m \u001b[0;34m\u001b[0m\u001b[0m\n\u001b[1;32m    604\u001b[0m             \u001b[0;31m# called without the lock to avoid deadlock potential\u001b[0m\u001b[0;34m\u001b[0m\u001b[0;34m\u001b[0m\u001b[0;34m\u001b[0m\u001b[0m\n",
      "\u001b[0;32m~/anaconda3/envs/comappenv/lib/python3.8/site-packages/kafka/client_async.py\u001b[0m in \u001b[0;36m_poll\u001b[0;34m(self, timeout)\u001b[0m\n\u001b[1;32m    632\u001b[0m \u001b[0;34m\u001b[0m\u001b[0m\n\u001b[1;32m    633\u001b[0m         \u001b[0mstart_select\u001b[0m \u001b[0;34m=\u001b[0m \u001b[0mtime\u001b[0m\u001b[0;34m.\u001b[0m\u001b[0mtime\u001b[0m\u001b[0;34m(\u001b[0m\u001b[0;34m)\u001b[0m\u001b[0;34m\u001b[0m\u001b[0;34m\u001b[0m\u001b[0m\n\u001b[0;32m--> 634\u001b[0;31m         \u001b[0mready\u001b[0m \u001b[0;34m=\u001b[0m \u001b[0mself\u001b[0m\u001b[0;34m.\u001b[0m\u001b[0m_selector\u001b[0m\u001b[0;34m.\u001b[0m\u001b[0mselect\u001b[0m\u001b[0;34m(\u001b[0m\u001b[0mtimeout\u001b[0m\u001b[0;34m)\u001b[0m\u001b[0;34m\u001b[0m\u001b[0;34m\u001b[0m\u001b[0m\n\u001b[0m\u001b[1;32m    635\u001b[0m         \u001b[0mend_select\u001b[0m \u001b[0;34m=\u001b[0m \u001b[0mtime\u001b[0m\u001b[0;34m.\u001b[0m\u001b[0mtime\u001b[0m\u001b[0;34m(\u001b[0m\u001b[0;34m)\u001b[0m\u001b[0;34m\u001b[0m\u001b[0;34m\u001b[0m\u001b[0m\n\u001b[1;32m    636\u001b[0m         \u001b[0;32mif\u001b[0m \u001b[0mself\u001b[0m\u001b[0;34m.\u001b[0m\u001b[0m_sensors\u001b[0m\u001b[0;34m:\u001b[0m\u001b[0;34m\u001b[0m\u001b[0;34m\u001b[0m\u001b[0m\n",
      "\u001b[0;32m~/anaconda3/envs/comappenv/lib/python3.8/selectors.py\u001b[0m in \u001b[0;36mselect\u001b[0;34m(self, timeout)\u001b[0m\n\u001b[1;32m    466\u001b[0m             \u001b[0mready\u001b[0m \u001b[0;34m=\u001b[0m \u001b[0;34m[\u001b[0m\u001b[0;34m]\u001b[0m\u001b[0;34m\u001b[0m\u001b[0;34m\u001b[0m\u001b[0m\n\u001b[1;32m    467\u001b[0m             \u001b[0;32mtry\u001b[0m\u001b[0;34m:\u001b[0m\u001b[0;34m\u001b[0m\u001b[0;34m\u001b[0m\u001b[0m\n\u001b[0;32m--> 468\u001b[0;31m                 \u001b[0mfd_event_list\u001b[0m \u001b[0;34m=\u001b[0m \u001b[0mself\u001b[0m\u001b[0;34m.\u001b[0m\u001b[0m_selector\u001b[0m\u001b[0;34m.\u001b[0m\u001b[0mpoll\u001b[0m\u001b[0;34m(\u001b[0m\u001b[0mtimeout\u001b[0m\u001b[0;34m,\u001b[0m \u001b[0mmax_ev\u001b[0m\u001b[0;34m)\u001b[0m\u001b[0;34m\u001b[0m\u001b[0;34m\u001b[0m\u001b[0m\n\u001b[0m\u001b[1;32m    469\u001b[0m             \u001b[0;32mexcept\u001b[0m \u001b[0mInterruptedError\u001b[0m\u001b[0;34m:\u001b[0m\u001b[0;34m\u001b[0m\u001b[0;34m\u001b[0m\u001b[0m\n\u001b[1;32m    470\u001b[0m                 \u001b[0;32mreturn\u001b[0m \u001b[0mready\u001b[0m\u001b[0;34m\u001b[0m\u001b[0;34m\u001b[0m\u001b[0m\n",
      "\u001b[0;31mKeyboardInterrupt\u001b[0m: "
     ]
    }
   ],
   "source": [
    "for row in consumer:\n",
    "    print(row.value)"
   ]
  },
  {
   "cell_type": "code",
   "execution_count": null,
   "id": "0f791575",
   "metadata": {},
   "outputs": [],
   "source": []
  },
  {
   "cell_type": "code",
   "execution_count": null,
   "id": "8864674b",
   "metadata": {},
   "outputs": [],
   "source": []
  },
  {
   "cell_type": "code",
   "execution_count": null,
   "id": "d3f6e9cc",
   "metadata": {},
   "outputs": [],
   "source": []
  },
  {
   "cell_type": "code",
   "execution_count": null,
   "id": "4018246f",
   "metadata": {},
   "outputs": [],
   "source": []
  },
  {
   "cell_type": "code",
   "execution_count": null,
   "id": "7e397027",
   "metadata": {},
   "outputs": [],
   "source": []
  },
  {
   "cell_type": "code",
   "execution_count": null,
   "id": "0943be5f",
   "metadata": {},
   "outputs": [],
   "source": []
  }
 ],
 "metadata": {
  "kernelspec": {
   "display_name": "Python 3",
   "language": "python",
   "name": "python3"
  },
  "language_info": {
   "codemirror_mode": {
    "name": "ipython",
    "version": 3
   },
   "file_extension": ".py",
   "mimetype": "text/x-python",
   "name": "python",
   "nbconvert_exporter": "python",
   "pygments_lexer": "ipython3",
   "version": "3.8.8"
  }
 },
 "nbformat": 4,
 "nbformat_minor": 5
}
