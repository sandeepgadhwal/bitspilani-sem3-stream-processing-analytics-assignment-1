{
 "cells": [
  {
   "cell_type": "code",
   "execution_count": 2,
   "id": "47eaf6ec",
   "metadata": {},
   "outputs": [],
   "source": [
    "%load_ext autoreload \n",
    "%autoreload 2"
   ]
  },
  {
   "cell_type": "code",
   "execution_count": null,
   "id": "913041a8",
   "metadata": {},
   "outputs": [],
   "source": []
  },
  {
   "cell_type": "code",
   "execution_count": 3,
   "id": "98b9aa50",
   "metadata": {},
   "outputs": [],
   "source": [
    "import sys\n",
    "import os"
   ]
  },
  {
   "cell_type": "code",
   "execution_count": 4,
   "id": "c70b9c88",
   "metadata": {},
   "outputs": [],
   "source": [
    "sys.path.append(os.path.dirname(os.path.abspath('.')))"
   ]
  },
  {
   "cell_type": "code",
   "execution_count": null,
   "id": "6b19ecd1",
   "metadata": {},
   "outputs": [],
   "source": []
  },
  {
   "cell_type": "code",
   "execution_count": 5,
   "id": "b319eb18",
   "metadata": {},
   "outputs": [],
   "source": [
    "from comlib.database import execute, get_session, flush_database_dev, create_tables"
   ]
  },
  {
   "cell_type": "code",
   "execution_count": null,
   "id": "2218140c",
   "metadata": {},
   "outputs": [],
   "source": []
  },
  {
   "cell_type": "code",
   "execution_count": 16,
   "id": "d754f446",
   "metadata": {
    "scrolled": false
   },
   "outputs": [
    {
     "data": {
      "text/plain": [
       "[Row(keyspace_name='comapp', type='table', name='posts')]"
      ]
     },
     "execution_count": 16,
     "metadata": {},
     "output_type": "execute_result"
    }
   ],
   "source": [
    "execute(\"DESCRIBE TABLES\").all()"
   ]
  },
  {
   "cell_type": "code",
   "execution_count": 17,
   "id": "02141559",
   "metadata": {},
   "outputs": [],
   "source": [
    "# flush_database_dev()"
   ]
  },
  {
   "cell_type": "code",
   "execution_count": 20,
   "id": "bc595d49",
   "metadata": {},
   "outputs": [
    {
     "data": {
      "text/plain": [
       "[]"
      ]
     },
     "execution_count": 20,
     "metadata": {},
     "output_type": "execute_result"
    }
   ],
   "source": [
    "execute(\"DROP TABLE comapp.posts;\").all()"
   ]
  },
  {
   "cell_type": "code",
   "execution_count": 21,
   "id": "5ee21f42",
   "metadata": {},
   "outputs": [
    {
     "name": "stdout",
     "output_type": "stream",
     "text": [
      "None\n"
     ]
    }
   ],
   "source": [
    "create_tables()"
   ]
  },
  {
   "cell_type": "code",
   "execution_count": 22,
   "id": "606d97ab",
   "metadata": {},
   "outputs": [
    {
     "name": "stdout",
     "output_type": "stream",
     "text": [
      "Row(keyspace_name='comapp', type='table', name='posts')\n"
     ]
    },
    {
     "data": {
      "text/plain": [
       "[Row(keyspace_name='comapp', type='table', name='posts')]"
      ]
     },
     "execution_count": 22,
     "metadata": {},
     "output_type": "execute_result"
    }
   ],
   "source": [
    "execute(\"DESCRIBE TABLES\").all()"
   ]
  },
  {
   "cell_type": "code",
   "execution_count": 23,
   "id": "5069b6c8",
   "metadata": {},
   "outputs": [
    {
     "name": "stdout",
     "output_type": "stream",
     "text": [
      "Row(keyspace_name='comapp', type='table', name='posts')\n"
     ]
    },
    {
     "data": {
      "text/plain": [
       "[Row(keyspace_name='comapp', type='table', name='posts', create_statement=\"CREATE TABLE comapp.posts (\\n    post_author_uuid text,\\n    post_timestamp timestamp,\\n    post_comment_count int,\\n    post_name text,\\n    post_reaction_count int,\\n    post_share_count int,\\n    post_text text,\\n    post_url_slug text,\\n    post_uuid uuid,\\n    post_comments list<frozen<map<text, text>>>,\\n    post_media list<frozen<map<text, text>>>,\\n    post_reactions list<frozen<map<text, text>>>,\\n    post_scope list<text>,\\n    PRIMARY KEY (post_author_uuid, post_timestamp)\\n) WITH CLUSTERING ORDER BY (post_timestamp ASC)\\n    AND additional_write_policy = '99p'\\n    AND bloom_filter_fp_chance = 0.01\\n    AND caching = {'keys': 'ALL', 'rows_per_partition': 'NONE'}\\n    AND cdc = false\\n    AND comment = ''\\n    AND compaction = {'class': 'org.apache.cassandra.db.compaction.SizeTieredCompactionStrategy', 'max_threshold': '32', 'min_threshold': '4'}\\n    AND compression = {'chunk_length_in_kb': '16', 'class': 'org.apache.cassandra.io.compress.LZ4Compressor'}\\n    AND crc_check_chance = 1.0\\n    AND default_time_to_live = 0\\n    AND extensions = {}\\n    AND gc_grace_seconds = 864000\\n    AND max_index_interval = 2048\\n    AND memtable_flush_period_in_ms = 0\\n    AND min_index_interval = 128\\n    AND read_repair = 'BLOCKING'\\n    AND speculative_retry = '99p';\"),\n",
       " Row(keyspace_name='comapp', type='index', name='post_uuid_idx', create_statement='CREATE INDEX post_uuid_idx ON comapp.posts (post_uuid);')]"
      ]
     },
     "execution_count": 23,
     "metadata": {},
     "output_type": "execute_result"
    }
   ],
   "source": [
    "execute(\"DESCRIBE TABLE comapp.posts;\").all()"
   ]
  },
  {
   "cell_type": "code",
   "execution_count": null,
   "id": "7889cbef",
   "metadata": {},
   "outputs": [],
   "source": []
  },
  {
   "cell_type": "code",
   "execution_count": 24,
   "id": "809f8498",
   "metadata": {},
   "outputs": [
    {
     "name": "stdout",
     "output_type": "stream",
     "text": [
      "Row(keyspace_name='comapp', type='table', name='posts')\n"
     ]
    }
   ],
   "source": [
    "session = get_session()"
   ]
  },
  {
   "cell_type": "code",
   "execution_count": 25,
   "id": "1b2d467b",
   "metadata": {},
   "outputs": [],
   "source": [
    "# session.execute_async(f\"\"\"\n",
    "# INSERT INTO TABLE comapp.posts VALUES (\n",
    "# )\n",
    "#         post_uuid TIMEUUID PRIMARY KEY,\n",
    "#         post_name VARCHAR,\n",
    "#         post_author_uuid VARCHAR,\n",
    "#         post_text VARCHAR,\n",
    "#         post_media LIST<FROZEN<MAP<TEXT, TEXT>>>,\n",
    "#         post_url_slug VARCHAR,\n",
    "#         post_scope LIST<TEXT>,\n",
    "#         post_share_count INT,\n",
    "#         post_comment_count INT,\n",
    "#         post_reaction_count INT,\n",
    "#         post_comments LIST<FROZEN<MAP<TEXT, TEXT>>>,\n",
    "#         post_reactions LIST<FROZEN<MAP<TEXT, TEXT>>>\n",
    "#         ;\n",
    "# \"\"\")"
   ]
  },
  {
   "cell_type": "code",
   "execution_count": 26,
   "id": "ed4b0ff7",
   "metadata": {},
   "outputs": [],
   "source": [
    "res = session.execute(\"\"\"\n",
    "INSERT INTO comapp.posts (\n",
    "    post_author_uuid, \n",
    "    post_uuid, \n",
    "    post_timestamp, \n",
    "    post_name, \n",
    "    post_text, \n",
    "    post_url_slug, \n",
    "    post_scope, \n",
    "    post_media, \n",
    "    post_share_count, \n",
    "    post_comment_count, \n",
    "    post_reaction_count\n",
    ")\n",
    "VALUES (\n",
    "    'sandeep',\n",
    "    uuid(),\n",
    "    toTimeStamp(now()),\n",
    "    'Save Environment',\n",
    "    'Deep learning to detect polluting industries around NCR using Sentinel Imagery.',\n",
    "    'save-environment',\n",
    "    ['global'],\n",
    "    [{'media/1':'jupyter_notebook.iynb'}],\n",
    "    0,\n",
    "    0,\n",
    "    0\n",
    ")\n",
    "\"\"\")"
   ]
  },
  {
   "cell_type": "code",
   "execution_count": null,
   "id": "2762d38f",
   "metadata": {},
   "outputs": [],
   "source": []
  },
  {
   "cell_type": "code",
   "execution_count": 27,
   "id": "0de00486",
   "metadata": {},
   "outputs": [
    {
     "data": {
      "text/plain": [
       "[Row(post_author_uuid='sandeep', post_timestamp=datetime.datetime(2021, 8, 30, 18, 17, 27, 751000), post_comment_count=0, post_comments=None, post_media=[OrderedMapSerializedKey([('media/1', 'jupyter_notebook.iynb')])], post_name='Save Environment', post_reaction_count=0, post_reactions=None, post_scope=['global'], post_share_count=0, post_text='Deep learning to detect polluting industries around NCR using Sentinel Imagery.', post_url_slug='save-environment', post_uuid=UUID('f8301e13-b614-4da5-8f48-58dc2ac1bcd3'))]"
      ]
     },
     "execution_count": 27,
     "metadata": {},
     "output_type": "execute_result"
    }
   ],
   "source": [
    "session.execute(\"SELECT * FROM comapp.posts;\").all()"
   ]
  },
  {
   "cell_type": "code",
   "execution_count": null,
   "id": "9e7f941f",
   "metadata": {},
   "outputs": [],
   "source": []
  },
  {
   "cell_type": "code",
   "execution_count": null,
   "id": "8d9c1238",
   "metadata": {},
   "outputs": [],
   "source": []
  },
  {
   "cell_type": "code",
   "execution_count": null,
   "id": "1db04d76",
   "metadata": {},
   "outputs": [],
   "source": []
  },
  {
   "cell_type": "code",
   "execution_count": null,
   "id": "040ee446",
   "metadata": {},
   "outputs": [],
   "source": []
  }
 ],
 "metadata": {
  "kernelspec": {
   "display_name": "Python 3",
   "language": "python",
   "name": "python3"
  },
  "language_info": {
   "codemirror_mode": {
    "name": "ipython",
    "version": 3
   },
   "file_extension": ".py",
   "mimetype": "text/x-python",
   "name": "python",
   "nbconvert_exporter": "python",
   "pygments_lexer": "ipython3",
   "version": "3.8.8"
  }
 },
 "nbformat": 4,
 "nbformat_minor": 5
}
