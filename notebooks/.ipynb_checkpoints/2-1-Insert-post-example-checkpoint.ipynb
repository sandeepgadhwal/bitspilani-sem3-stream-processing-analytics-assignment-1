{
 "cells": [
  {
   "cell_type": "code",
   "execution_count": 1,
   "id": "47eaf6ec",
   "metadata": {},
   "outputs": [],
   "source": [
    "%load_ext autoreload \n",
    "%autoreload 2"
   ]
  },
  {
   "cell_type": "code",
   "execution_count": null,
   "id": "913041a8",
   "metadata": {},
   "outputs": [],
   "source": []
  },
  {
   "cell_type": "code",
   "execution_count": 2,
   "id": "98b9aa50",
   "metadata": {},
   "outputs": [],
   "source": [
    "import sys\n",
    "import os"
   ]
  },
  {
   "cell_type": "code",
   "execution_count": 3,
   "id": "c70b9c88",
   "metadata": {},
   "outputs": [],
   "source": [
    "sys.path.append(os.path.dirname(os.path.abspath('.')))"
   ]
  },
  {
   "cell_type": "code",
   "execution_count": null,
   "id": "6b19ecd1",
   "metadata": {},
   "outputs": [],
   "source": []
  },
  {
   "cell_type": "code",
   "execution_count": 7,
   "id": "b319eb18",
   "metadata": {},
   "outputs": [],
   "source": [
    "from comlib.database import execute, get_session"
   ]
  },
  {
   "cell_type": "code",
   "execution_count": 2,
   "id": "2218140c",
   "metadata": {},
   "outputs": [
    {
     "data": {
      "text/plain": [
       "3600"
      ]
     },
     "execution_count": 2,
     "metadata": {},
     "output_type": "execute_result"
    }
   ],
   "source": [
    "3600"
   ]
  },
  {
   "cell_type": "code",
   "execution_count": 8,
   "id": "809f8498",
   "metadata": {},
   "outputs": [],
   "source": [
    "session = get_session()"
   ]
  },
  {
   "cell_type": "code",
   "execution_count": 12,
   "id": "ed4b0ff7",
   "metadata": {},
   "outputs": [],
   "source": [
    "res = session.execute(\"\"\"\n",
    "INSERT INTO comapp.posts (\n",
    "    post_author_uuid, \n",
    "    post_uuid, \n",
    "    post_timestamp, \n",
    "    post_name, \n",
    "    post_text, \n",
    "    post_url_slug, \n",
    "    post_scope, \n",
    "    post_media, \n",
    "    post_share_count, \n",
    "    post_comment_count, \n",
    "    post_reaction_count\n",
    ")\n",
    "VALUES (\n",
    "    'sandeep',\n",
    "    uuid(),\n",
    "    toTimeStamp(now()),\n",
    "    'Save Environment',\n",
    "    'Deep learning to detect polluting industries around NCR using Sentinel Imagery.',\n",
    "    'save-environment',\n",
    "    ['global'],\n",
    "    [{'media/1':'jupyter_notebook.iynb'}],\n",
    "    0,\n",
    "    0,\n",
    "    0\n",
    ")\n",
    "\"\"\")"
   ]
  },
  {
   "cell_type": "code",
   "execution_count": null,
   "id": "0f742233",
   "metadata": {},
   "outputs": [],
   "source": []
  },
  {
   "cell_type": "code",
   "execution_count": 13,
   "id": "0de00486",
   "metadata": {},
   "outputs": [],
   "source": [
    "a = session.execute(\"SELECT * FROM comapp.posts;\").all()"
   ]
  },
  {
   "cell_type": "code",
   "execution_count": 14,
   "id": "665556c7",
   "metadata": {},
   "outputs": [
    {
     "data": {
      "text/plain": [
       "Row(post_author_uuid='sandeep', post_timestamp=datetime.datetime(2021, 8, 30, 18, 13, 38, 328000), post_comment_count=0, post_comments=None, post_media=[OrderedMapSerializedKey([('media/1', 'jupyter_notebook.iynb')])], post_name='Save Environment', post_reaction_count=0, post_reactions=None, post_scope=['global'], post_share_count=0, post_text='Deep learning to detect polluting industries around NCR using Sentinel Imagery.', post_url_slug='save-environment', post_uuid=UUID('819d60c0-c4b6-405f-9e9c-3b99f9f136b1'))"
      ]
     },
     "execution_count": 14,
     "metadata": {},
     "output_type": "execute_result"
    }
   ],
   "source": [
    "a[0]"
   ]
  },
  {
   "cell_type": "code",
   "execution_count": null,
   "id": "43fdeb57",
   "metadata": {},
   "outputs": [],
   "source": []
  },
  {
   "cell_type": "code",
   "execution_count": null,
   "id": "edac6022",
   "metadata": {},
   "outputs": [],
   "source": []
  },
  {
   "cell_type": "code",
   "execution_count": null,
   "id": "040ee446",
   "metadata": {},
   "outputs": [],
   "source": []
  }
 ],
 "metadata": {
  "kernelspec": {
   "display_name": "Python 3",
   "language": "python",
   "name": "python3"
  },
  "language_info": {
   "codemirror_mode": {
    "name": "ipython",
    "version": 3
   },
   "file_extension": ".py",
   "mimetype": "text/x-python",
   "name": "python",
   "nbconvert_exporter": "python",
   "pygments_lexer": "ipython3",
   "version": "3.8.8"
  }
 },
 "nbformat": 4,
 "nbformat_minor": 5
}
