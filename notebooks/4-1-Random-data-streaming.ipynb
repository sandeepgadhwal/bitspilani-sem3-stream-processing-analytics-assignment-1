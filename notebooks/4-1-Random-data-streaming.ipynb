{
 "cells": [
  {
   "cell_type": "code",
   "execution_count": 1,
   "id": "47eaf6ec",
   "metadata": {},
   "outputs": [],
   "source": [
    "%load_ext autoreload \n",
    "%autoreload 2"
   ]
  },
  {
   "cell_type": "code",
   "execution_count": null,
   "id": "913041a8",
   "metadata": {},
   "outputs": [],
   "source": []
  },
  {
   "cell_type": "code",
   "execution_count": 2,
   "id": "98b9aa50",
   "metadata": {},
   "outputs": [],
   "source": [
    "import sys\n",
    "import os"
   ]
  },
  {
   "cell_type": "code",
   "execution_count": 3,
   "id": "c70b9c88",
   "metadata": {},
   "outputs": [],
   "source": [
    "sys.path.append(os.path.dirname(os.path.abspath('.')))"
   ]
  },
  {
   "cell_type": "code",
   "execution_count": null,
   "id": "6b19ecd1",
   "metadata": {},
   "outputs": [],
   "source": []
  },
  {
   "cell_type": "markdown",
   "id": "d1c3e2c1",
   "metadata": {},
   "source": [
    "## Data Source"
   ]
  },
  {
   "cell_type": "markdown",
   "id": "0635da12",
   "metadata": {},
   "source": [
    "Streaming data downloaded from this [source](https://hcad.org/pdata/pdata-property-downloads.html).\n",
    "  \n",
    "[Ownership](https://download.hcad.org/data/CAMA/2021/Real_acct_ownership_history.zip)\n",
    "Current ownership information."
   ]
  },
  {
   "cell_type": "code",
   "execution_count": 4,
   "id": "cfc4f9ad",
   "metadata": {},
   "outputs": [],
   "source": [
    "import zipfile\n",
    "import pandas as pd"
   ]
  },
  {
   "cell_type": "code",
   "execution_count": 5,
   "id": "54e5737e",
   "metadata": {},
   "outputs": [],
   "source": [
    "with zipfile.ZipFile('../data/Real_acct_ownership_history.zip') as f:\n",
    "    with f.open('ownership_history.txt') as ft:\n",
    "        df = pd.read_csv(ft, sep='\\t', encoding='Latin')"
   ]
  },
  {
   "cell_type": "code",
   "execution_count": 6,
   "id": "efa69aa1",
   "metadata": {},
   "outputs": [
    {
     "data": {
      "text/html": [
       "<div>\n",
       "<style scoped>\n",
       "    .dataframe tbody tr th:only-of-type {\n",
       "        vertical-align: middle;\n",
       "    }\n",
       "\n",
       "    .dataframe tbody tr th {\n",
       "        vertical-align: top;\n",
       "    }\n",
       "\n",
       "    .dataframe thead th {\n",
       "        text-align: right;\n",
       "    }\n",
       "</style>\n",
       "<table border=\"1\" class=\"dataframe\">\n",
       "  <thead>\n",
       "    <tr style=\"text-align: right;\">\n",
       "      <th></th>\n",
       "      <th>acct</th>\n",
       "      <th>purchase_date</th>\n",
       "      <th>name</th>\n",
       "      <th>site_address</th>\n",
       "    </tr>\n",
       "  </thead>\n",
       "  <tbody>\n",
       "    <tr>\n",
       "      <th>0</th>\n",
       "      <td>10010000013</td>\n",
       "      <td>01/02/1988</td>\n",
       "      <td>CITY OF HOUSTON</td>\n",
       "      <td>0 COMMERCE ST</td>\n",
       "    </tr>\n",
       "    <tr>\n",
       "      <th>1</th>\n",
       "      <td>10020000001</td>\n",
       "      <td>10/31/2012</td>\n",
       "      <td>CURRENT OWNER</td>\n",
       "      <td>907 COMMERCE ST</td>\n",
       "    </tr>\n",
       "    <tr>\n",
       "      <th>2</th>\n",
       "      <td>10020000003</td>\n",
       "      <td>01/02/1988</td>\n",
       "      <td>MILBY CHARLES FAMILY PTNSH</td>\n",
       "      <td>0 COMMERCE ST</td>\n",
       "    </tr>\n",
       "    <tr>\n",
       "      <th>3</th>\n",
       "      <td>10020000004</td>\n",
       "      <td>01/02/1996</td>\n",
       "      <td>FEAGIN MICHAEL RYAN TRUST</td>\n",
       "      <td>0 COMMERCE ST</td>\n",
       "    </tr>\n",
       "    <tr>\n",
       "      <th>4</th>\n",
       "      <td>10020000013</td>\n",
       "      <td>12/29/1999</td>\n",
       "      <td>BUFFALO BAYOU PARTNERSHIP</td>\n",
       "      <td>921 COMMERCE ST</td>\n",
       "    </tr>\n",
       "    <tr>\n",
       "      <th>...</th>\n",
       "      <td>...</td>\n",
       "      <td>...</td>\n",
       "      <td>...</td>\n",
       "      <td>...</td>\n",
       "    </tr>\n",
       "    <tr>\n",
       "      <th>1506718</th>\n",
       "      <td>9700000000235</td>\n",
       "      <td>12/08/1998</td>\n",
       "      <td>PCI NITROGEN LLC</td>\n",
       "      <td>2000 DAVISON RD</td>\n",
       "    </tr>\n",
       "    <tr>\n",
       "      <th>1506719</th>\n",
       "      <td>9700000000237</td>\n",
       "      <td>01/01/2003</td>\n",
       "      <td>CENTERPOINT ENERGY HOU ELE</td>\n",
       "      <td>2012 MILLER CUTRD</td>\n",
       "    </tr>\n",
       "    <tr>\n",
       "      <th>1506720</th>\n",
       "      <td>9700000000239</td>\n",
       "      <td>01/01/2006</td>\n",
       "      <td>INEOS USA LLC</td>\n",
       "      <td>1515 MILLER CUTRD</td>\n",
       "    </tr>\n",
       "    <tr>\n",
       "      <th>1506721</th>\n",
       "      <td>9700000000277</td>\n",
       "      <td>01/01/2002</td>\n",
       "      <td>AKZO NOBEL POLYMER CHEMICALS LLC</td>\n",
       "      <td>12900 BAYPARK RD</td>\n",
       "    </tr>\n",
       "    <tr>\n",
       "      <th>1506722</th>\n",
       "      <td>9700000000278</td>\n",
       "      <td>01/02/1988</td>\n",
       "      <td>GREIF BROS COOPERAGE CORP</td>\n",
       "      <td>10700 STRANG RD</td>\n",
       "    </tr>\n",
       "  </tbody>\n",
       "</table>\n",
       "<p>1506723 rows × 4 columns</p>\n",
       "</div>"
      ],
      "text/plain": [
       "                  acct purchase_date                              name  \\\n",
       "0          10010000013    01/02/1988                   CITY OF HOUSTON   \n",
       "1          10020000001    10/31/2012                     CURRENT OWNER   \n",
       "2          10020000003    01/02/1988        MILBY CHARLES FAMILY PTNSH   \n",
       "3          10020000004    01/02/1996         FEAGIN MICHAEL RYAN TRUST   \n",
       "4          10020000013    12/29/1999         BUFFALO BAYOU PARTNERSHIP   \n",
       "...                ...           ...                               ...   \n",
       "1506718  9700000000235    12/08/1998                  PCI NITROGEN LLC   \n",
       "1506719  9700000000237    01/01/2003        CENTERPOINT ENERGY HOU ELE   \n",
       "1506720  9700000000239    01/01/2006                     INEOS USA LLC   \n",
       "1506721  9700000000277    01/01/2002  AKZO NOBEL POLYMER CHEMICALS LLC   \n",
       "1506722  9700000000278    01/02/1988         GREIF BROS COOPERAGE CORP   \n",
       "\n",
       "              site_address  \n",
       "0            0 COMMERCE ST  \n",
       "1          907 COMMERCE ST  \n",
       "2            0 COMMERCE ST  \n",
       "3            0 COMMERCE ST  \n",
       "4          921 COMMERCE ST  \n",
       "...                    ...  \n",
       "1506718    2000 DAVISON RD  \n",
       "1506719  2012 MILLER CUTRD  \n",
       "1506720  1515 MILLER CUTRD  \n",
       "1506721   12900 BAYPARK RD  \n",
       "1506722    10700 STRANG RD  \n",
       "\n",
       "[1506723 rows x 4 columns]"
      ]
     },
     "execution_count": 6,
     "metadata": {},
     "output_type": "execute_result"
    }
   ],
   "source": [
    "df"
   ]
  },
  {
   "cell_type": "code",
   "execution_count": null,
   "id": "64b79223",
   "metadata": {},
   "outputs": [],
   "source": []
  },
  {
   "cell_type": "code",
   "execution_count": 7,
   "id": "bfa406c2",
   "metadata": {},
   "outputs": [],
   "source": [
    "from time import sleep, time\n",
    "import datetime\n",
    "from json import dumps\n",
    "from kafka import KafkaProducer"
   ]
  },
  {
   "cell_type": "code",
   "execution_count": 8,
   "id": "37210b69",
   "metadata": {},
   "outputs": [],
   "source": [
    "producer = KafkaProducer(bootstrap_servers=['localhost:9092'],\n",
    "                         value_serializer=lambda x: \n",
    "                         dumps(x).encode('utf-8'))"
   ]
  },
  {
   "cell_type": "code",
   "execution_count": 9,
   "id": "c94cd402",
   "metadata": {},
   "outputs": [],
   "source": [
    "import random\n",
    "import time"
   ]
  },
  {
   "cell_type": "code",
   "execution_count": null,
   "id": "ae225831",
   "metadata": {},
   "outputs": [
    {
     "name": "stdout",
     "output_type": "stream",
     "text": [
      "-- Producing Speed: 1010.18 Posts Per Second | total Posts: 1828425                         \r"
     ]
    }
   ],
   "source": [
    "start1 = start = time.time()\n",
    "c = 0\n",
    "while True:\n",
    "    for i, row in df.iterrows():\n",
    "        drow = {\n",
    "            \"post_uuid\": row.acct, \n",
    "            \"post_author_uuid\": row['name'],\n",
    "            \"post_name\": row.site_address,\n",
    "            \"post_text\": f\"{row['name'] } just purchased property on {row.site_address} with account number {row.acct}\",\n",
    "            \"post_url_slug\": row.acct, \n",
    "            \"post_scope\": \"global\" if random.randint(1, 10) > 7 else \"group\",\n",
    "            \"post_media\": [{\"media/1\": \"property docs\"}] if random.randint(1, 10) > 7 else []\n",
    "        }\n",
    "        producer.send('post-stream', value=drow)\n",
    "        c+=1\n",
    "        sleep(0.0001)\n",
    "        if time.time() - start1 > 1:\n",
    "            start1 = time.time()\n",
    "            speed = c/(start1-start)\n",
    "            speed = f\"{(speed):0.2f}\"\n",
    "            m = f\"-- Producing Speed: { speed } Posts Per Second | total Posts: {c}                         \"\n",
    "            print(m, end='\\r')"
   ]
  },
  {
   "cell_type": "code",
   "execution_count": null,
   "id": "43fdeb57",
   "metadata": {},
   "outputs": [],
   "source": []
  },
  {
   "cell_type": "code",
   "execution_count": null,
   "id": "edac6022",
   "metadata": {},
   "outputs": [],
   "source": []
  },
  {
   "cell_type": "code",
   "execution_count": null,
   "id": "040ee446",
   "metadata": {},
   "outputs": [],
   "source": []
  }
 ],
 "metadata": {
  "kernelspec": {
   "display_name": "Python 3",
   "language": "python",
   "name": "python3"
  },
  "language_info": {
   "codemirror_mode": {
    "name": "ipython",
    "version": 3
   },
   "file_extension": ".py",
   "mimetype": "text/x-python",
   "name": "python",
   "nbconvert_exporter": "python",
   "pygments_lexer": "ipython3",
   "version": "3.8.8"
  }
 },
 "nbformat": 4,
 "nbformat_minor": 5
}
