{
 "cells": [
  {
   "cell_type": "code",
   "execution_count": 1,
   "id": "47eaf6ec",
   "metadata": {},
   "outputs": [],
   "source": [
    "%load_ext autoreload \n",
    "%autoreload 2"
   ]
  },
  {
   "cell_type": "code",
   "execution_count": null,
   "id": "913041a8",
   "metadata": {},
   "outputs": [],
   "source": []
  },
  {
   "cell_type": "code",
   "execution_count": 102,
   "id": "98b9aa50",
   "metadata": {},
   "outputs": [],
   "source": [
    "import sys\n",
    "import os\n",
    "import json"
   ]
  },
  {
   "cell_type": "code",
   "execution_count": 3,
   "id": "c70b9c88",
   "metadata": {},
   "outputs": [],
   "source": [
    "sys.path.append(os.path.dirname(os.path.abspath('.')))"
   ]
  },
  {
   "cell_type": "code",
   "execution_count": null,
   "id": "6b19ecd1",
   "metadata": {},
   "outputs": [],
   "source": []
  },
  {
   "cell_type": "code",
   "execution_count": 4,
   "id": "b319eb18",
   "metadata": {},
   "outputs": [],
   "source": [
    "from comlib.database import execute"
   ]
  },
  {
   "cell_type": "code",
   "execution_count": null,
   "id": "74f3b134",
   "metadata": {},
   "outputs": [],
   "source": []
  },
  {
   "cell_type": "code",
   "execution_count": 112,
   "id": "dfc54a82",
   "metadata": {},
   "outputs": [],
   "source": [
    "q = f\"\"\"\n",
    "\n",
    "SELECT \n",
    "    SUM(is_offensive),\n",
    "    sum(is_age_restricted),\n",
    "    sum(is_group_message),\n",
    "    sum(is_global_message),\n",
    "    sum(contains_media),\n",
    "    sum(contains_media) \n",
    "FROM \n",
    "    comapp.post_stats \n",
    "WHERE\n",
    "    post_timestamp >= toTimeStamp(NOW()) - 1h ALLOW FILTERING;\n",
    "\"\"\"\n",
    "post_stats = execute(q).one()"
   ]
  },
  {
   "cell_type": "code",
   "execution_count": 113,
   "id": "9f140608",
   "metadata": {},
   "outputs": [
    {
     "data": {
      "text/plain": [
       "{'system.sum(is_offensive)': 0,\n",
       " 'system.sum(is_age_restricted)': 0,\n",
       " 'system.sum(is_group_message)': 0,\n",
       " 'system.sum(is_global_message)': 0,\n",
       " 'system.sum(contains_media)': 0}"
      ]
     },
     "execution_count": 113,
     "metadata": {},
     "output_type": "execute_result"
    }
   ],
   "source": [
    "post_stats"
   ]
  },
  {
   "cell_type": "code",
   "execution_count": null,
   "id": "84998a71",
   "metadata": {},
   "outputs": [],
   "source": []
  },
  {
   "cell_type": "code",
   "execution_count": 114,
   "id": "b9bd58f5",
   "metadata": {},
   "outputs": [],
   "source": [
    "import pandas as pd"
   ]
  },
  {
   "cell_type": "code",
   "execution_count": 116,
   "id": "6e80bc24",
   "metadata": {},
   "outputs": [
    {
     "data": {
      "text/plain": [
       "[{'index': 1, 'post_author_uuid': 'CAMILLO A 1 PROPERTY OWNER LLC', 'ct': 244},\n",
       " {'index': 2, 'post_author_uuid': 'CURRENT OWNER', 'ct': 164},\n",
       " {'index': 3, 'post_author_uuid': 'MARIPOSA PECAN PARK LP', 'ct': 153},\n",
       " {'index': 4, 'post_author_uuid': 'COUNTY OF HARRIS', 'ct': 82},\n",
       " {'index': 5, 'post_author_uuid': 'TB ENNIS LLC', 'ct': 65},\n",
       " {'index': 6, 'post_author_uuid': 'LH JUDIWAY ROWHOUSES LLC', 'ct': 62},\n",
       " {'index': 7, 'post_author_uuid': 'CITY OF HOUSTON', 'ct': 51},\n",
       " {'index': 8, 'post_author_uuid': 'CAMILLO PROPERTIES LTD', 'ct': 33},\n",
       " {'index': 9, 'post_author_uuid': 'ATMA AT POST OAK LIMITED', 'ct': 31},\n",
       " {'index': 10, 'post_author_uuid': 'ATMA AT THORNTON LLC', 'ct': 31},\n",
       " {'index': 11, 'post_author_uuid': 'DEVELOPMENT HOUSTON IN TOWN LP', 'ct': 31},\n",
       " {'index': 12, 'post_author_uuid': 'SOMERSET COMMONS LLC', 'ct': 25},\n",
       " {'index': 13,\n",
       "  'post_author_uuid': 'SHERWOOD FOREST LAND DEVELOPMENT LLC',\n",
       "  'ct': 25},\n",
       " {'index': 14, 'post_author_uuid': 'LETRAN HOLDINGS LLC', 'ct': 24},\n",
       " {'index': 15, 'post_author_uuid': 'MHI PARTNERSHIP LTD', 'ct': 24},\n",
       " {'index': 16, 'post_author_uuid': '6228 RICHMOND AVE INC', 'ct': 23},\n",
       " {'index': 17,\n",
       "  'post_author_uuid': 'URBAN LOFTS XIX LAND & DEVELOPMENT LTD',\n",
       "  'ct': 23},\n",
       " {'index': 18, 'post_author_uuid': 'CITYSIDE HOMES LLC', 'ct': 22},\n",
       " {'index': 19, 'post_author_uuid': 'FRONTIER CUSTOM BUILDERS INC', 'ct': 16},\n",
       " {'index': 20, 'post_author_uuid': 'ELITE TOWNHOMES LLC', 'ct': 15},\n",
       " {'index': 21,\n",
       "  'post_author_uuid': 'TOWNE LAKE COMMUNITY ASSOCIATION INC',\n",
       "  'ct': 15},\n",
       " {'index': 22, 'post_author_uuid': 'CD UPLAND LLC', 'ct': 15},\n",
       " {'index': 23,\n",
       "  'post_author_uuid': 'EADO EDGE COMMUNITY ASSOCIATION INC',\n",
       "  'ct': 14},\n",
       " {'index': 24, 'post_author_uuid': 'RETREAT ON BINGLE LP', 'ct': 13},\n",
       " {'index': 25, 'post_author_uuid': 'COMMUNITY ASSOCIATION OF KING', 'ct': 12},\n",
       " {'index': 26,\n",
       "  'post_author_uuid': 'ARCADIA COMMUNITY ASSOCIATION INC',\n",
       "  'ct': 12},\n",
       " {'index': 27, 'post_author_uuid': 'CAMILLO HOUSES NO 8 LLC', 'ct': 11},\n",
       " {'index': 28, 'post_author_uuid': 'HARRIS COUNTY MUD NO 165', 'ct': 11},\n",
       " {'index': 29,\n",
       "  'post_author_uuid': 'VILLAGE AT SPRING BRANCH COMMUNITY',\n",
       "  'ct': 10},\n",
       " {'index': 30, 'post_author_uuid': 'TOWNE LAKE COMMUNITY', 'ct': 10},\n",
       " {'index': 31, 'post_author_uuid': 'HARWIN CHOICE LLC', 'ct': 10},\n",
       " {'index': 32,\n",
       "  'post_author_uuid': 'FALLS AT DRY CREEK COMMUNITY ASSOCIATION',\n",
       "  'ct': 10},\n",
       " {'index': 33,\n",
       "  'post_author_uuid': 'LAUREL PARK COMMUNITY ASSOC INC',\n",
       "  'ct': 10},\n",
       " {'index': 34,\n",
       "  'post_author_uuid': 'LIVE OAK LANDING COMMUNITY ASSOCIATION',\n",
       "  'ct': 10},\n",
       " {'index': 35, 'post_author_uuid': 'CW SCOA WEST LP', 'ct': 10},\n",
       " {'index': 36, 'post_author_uuid': 'BAY RIVER COLONY HOMEOWNERS', 'ct': 9},\n",
       " {'index': 37, 'post_author_uuid': 'ROYAL OAKS SQUARE COMMUNITY', 'ct': 9},\n",
       " {'index': 38, 'post_author_uuid': 'SOMERSET GREEN HOMEOWNERS', 'ct': 9},\n",
       " {'index': 39, 'post_author_uuid': 'ROYAL BROOK AT KINGWOOD', 'ct': 9},\n",
       " {'index': 40, 'post_author_uuid': 'LEXINGTON 26 LP', 'ct': 8},\n",
       " {'index': 41,\n",
       "  'post_author_uuid': 'AUTUMN LAKES HOMEOWNERS ASSOCIATION',\n",
       "  'ct': 8},\n",
       " {'index': 42,\n",
       "  'post_author_uuid': 'CYPRESS CREEK LAKES SOUTH RESIDENTIAL',\n",
       "  'ct': 8},\n",
       " {'index': 43, 'post_author_uuid': 'INDEPENDENCE BUSINESS PARK LLC', 'ct': 8},\n",
       " {'index': 44, 'post_author_uuid': '5177 BUILDERS LTD', 'ct': 8},\n",
       " {'index': 45, 'post_author_uuid': 'MERITAGE HOMES OF TEXAS LLC', 'ct': 8},\n",
       " {'index': 46, 'post_author_uuid': 'COMMUNITY ASSOCIATION OF', 'ct': 7},\n",
       " {'index': 47, 'post_author_uuid': 'RIVERVIEW BUILDERS LLC', 'ct': 7},\n",
       " {'index': 48, 'post_author_uuid': 'CAZARES CESAR M', 'ct': 7},\n",
       " {'index': 49, 'post_author_uuid': 'LAKELAND VILLAGE COMMUNITY', 'ct': 7},\n",
       " {'index': 50, 'post_author_uuid': 'CONTEMPO BUILDER LLC', 'ct': 7},\n",
       " {'index': 51, 'post_author_uuid': 'RETREAT AT SHERWOOD CA INC', 'ct': 7},\n",
       " {'index': 52,\n",
       "  'post_author_uuid': 'HAMPTON CREEK COMMUNITY ASSOCIATION INC',\n",
       "  'ct': 7},\n",
       " {'index': 53, 'post_author_uuid': 'HAYDEN LAKES COMMUNITY', 'ct': 6},\n",
       " {'index': 54, 'post_author_uuid': 'GRAND PARKWAY INDUSTRIAL LP', 'ct': 6},\n",
       " {'index': 55, 'post_author_uuid': 'CRESTDALE DRIVE LLC', 'ct': 6},\n",
       " {'index': 56, 'post_author_uuid': 'YASH PROPERTIES PALM ROYALE LLC', 'ct': 6},\n",
       " {'index': 57,\n",
       "  'post_author_uuid': 'ALDEN WOODS HOMEOWNERS ASSOCIATION INC',\n",
       "  'ct': 6},\n",
       " {'index': 58, 'post_author_uuid': 'J PATRICK HOMES LTD', 'ct': 6},\n",
       " {'index': 59, 'post_author_uuid': 'EPISCOPAL HEALTH FOUNDATION', 'ct': 6},\n",
       " {'index': 60, 'post_author_uuid': 'EPIDEMIOLOGY SOLUTIONS LLC', 'ct': 6},\n",
       " {'index': 61, 'post_author_uuid': 'FRANKOL HASSAN', 'ct': 6},\n",
       " {'index': 62, 'post_author_uuid': 'RIZVI ALI H', 'ct': 6},\n",
       " {'index': 63, 'post_author_uuid': 'BEACON BUILDERS LLC', 'ct': 6},\n",
       " {'index': 64, 'post_author_uuid': 'BASE ENTERPRISE INC', 'ct': 6},\n",
       " {'index': 65, 'post_author_uuid': 'HGJM LLC', 'ct': 6},\n",
       " {'index': 66, 'post_author_uuid': 'HARRIS COUNTY MUD NO 537', 'ct': 6},\n",
       " {'index': 67, 'post_author_uuid': 'KHTI BUILDERS LLC', 'ct': 5},\n",
       " {'index': 68, 'post_author_uuid': 'DACASA HOMES & CONSTRUCTION LP', 'ct': 5},\n",
       " {'index': 69, 'post_author_uuid': 'SMALL THINGS LLC', 'ct': 5},\n",
       " {'index': 70, 'post_author_uuid': 'ELAN DEVELOPMENT LP', 'ct': 5},\n",
       " {'index': 71, 'post_author_uuid': 'MANCO ASSOCIATES LC', 'ct': 5},\n",
       " {'index': 72, 'post_author_uuid': 'CC BOARDWALK I LP', 'ct': 5},\n",
       " {'index': 73,\n",
       "  'post_author_uuid': 'BILLCO GROUP LIMITED LIABILITY COMPANY',\n",
       "  'ct': 5},\n",
       " {'index': 74, 'post_author_uuid': 'NR MAIN STREET AT KINGWOOD LLC', 'ct': 5},\n",
       " {'index': 75, 'post_author_uuid': 'RAVENNA BUILDING GROUP LLC', 'ct': 4},\n",
       " {'index': 76, 'post_author_uuid': 'WESTIN HOMES & PROPERTIES LP', 'ct': 4},\n",
       " {'index': 77,\n",
       "  'post_author_uuid': 'BAYSIDE CROSSING COMMUNITY ASSOCIATION INC',\n",
       "  'ct': 4},\n",
       " {'index': 78,\n",
       "  'post_author_uuid': 'URBAN LOFTS XVIII LAND & DEVELOPMENT LTD',\n",
       "  'ct': 4},\n",
       " {'index': 79, 'post_author_uuid': 'RIVERSTONE RANCH AT CLEAR', 'ct': 4},\n",
       " {'index': 80, 'post_author_uuid': 'FLORES MARIA P', 'ct': 4},\n",
       " {'index': 81,\n",
       "  'post_author_uuid': 'MARY MATHA DEVELOPMENT COMPANY LLC',\n",
       "  'ct': 4},\n",
       " {'index': 82,\n",
       "  'post_author_uuid': 'FRIENDSWOOD DEVELOPMENT COMPANY LLC',\n",
       "  'ct': 4},\n",
       " {'index': 83, 'post_author_uuid': 'S G OWNERS ASSOCIATION INC', 'ct': 4},\n",
       " {'index': 84, 'post_author_uuid': 'INTOWNHOMES LTD', 'ct': 4},\n",
       " {'index': 85, 'post_author_uuid': 'VENTANA LAKES COMMUNITY', 'ct': 4},\n",
       " {'index': 86, 'post_author_uuid': 'LENNAR HOMES OF TEXAS LAND', 'ct': 4},\n",
       " {'index': 87,\n",
       "  'post_author_uuid': 'RESERVE AT LOUETTA GLEN COMM ASSOC INC',\n",
       "  'ct': 4},\n",
       " {'index': 88,\n",
       "  'post_author_uuid': 'BAY RIVER COLONY HOMEOWNERS ASSN',\n",
       "  'ct': 4},\n",
       " {'index': 89, 'post_author_uuid': 'KL-5 LLC', 'ct': 4},\n",
       " {'index': 90,\n",
       "  'post_author_uuid': 'HOU DOUBLE B HOLDINGS & INVESTMENTS LLC',\n",
       "  'ct': 4},\n",
       " {'index': 91, 'post_author_uuid': 'VILLAS AT NEWPORT', 'ct': 4},\n",
       " {'index': 92, 'post_author_uuid': 'OAK FOREST OF LA SIERRA HOA', 'ct': 4},\n",
       " {'index': 93, 'post_author_uuid': '1114 W 22ND ST LLC', 'ct': 4},\n",
       " {'index': 94, 'post_author_uuid': 'HERBAL ESSENTIAL LLC', 'ct': 4},\n",
       " {'index': 95, 'post_author_uuid': 'CYPRESS CREEK CROSSING', 'ct': 4},\n",
       " {'index': 96, 'post_author_uuid': 'IHS DEVELOPERS LLC', 'ct': 4},\n",
       " {'index': 97,\n",
       "  'post_author_uuid': 'GENERATION PARK MANAGEMENT DISTRICT',\n",
       "  'ct': 4},\n",
       " {'index': 98, 'post_author_uuid': 'UPTOWN HOUSTON DEVELOPMENT LLC', 'ct': 4},\n",
       " {'index': 99, 'post_author_uuid': 'CREEKS OF AUGUSTA PINES', 'ct': 4},\n",
       " {'index': 100,\n",
       "  'post_author_uuid': 'GLEANNLOCH FARMS COMMUNITY ASSOCIATION',\n",
       "  'ct': 4}]"
      ]
     },
     "execution_count": 116,
     "metadata": {},
     "output_type": "execute_result"
    }
   ],
   "source": [
    "q = f\"\"\"\n",
    "SELECT \n",
    "    post_author_uuid,\n",
    "    COUNT(post_author_uuid) as ct\n",
    "FROM comapp.post_stats\n",
    "WHERE\n",
    "    post_timestamp >= toTimeStamp(NOW()) - 1h \n",
    "GROUP BY \n",
    "    post_author_uuid\n",
    "ALLOW FILTERING;\n",
    "\"\"\"\n",
    "top_authors = execute(q).all()\n",
    "df = pd.DataFrame(top_authors).sort_values('ct', ascending=False).head(100).reset_index(drop=True).reset_index()\n",
    "df['index']+=1\n",
    "top_authors = df.to_json(orient='records')\n",
    "top_authors = json.loads(top_authors)\n",
    "top_authors"
   ]
  },
  {
   "cell_type": "code",
   "execution_count": null,
   "id": "b2bb83f0",
   "metadata": {},
   "outputs": [],
   "source": []
  },
  {
   "cell_type": "code",
   "execution_count": null,
   "id": "43fdeb57",
   "metadata": {},
   "outputs": [],
   "source": []
  },
  {
   "cell_type": "code",
   "execution_count": null,
   "id": "edac6022",
   "metadata": {},
   "outputs": [],
   "source": []
  },
  {
   "cell_type": "code",
   "execution_count": null,
   "id": "040ee446",
   "metadata": {},
   "outputs": [],
   "source": []
  }
 ],
 "metadata": {
  "kernelspec": {
   "display_name": "Python 3",
   "language": "python",
   "name": "python3"
  },
  "language_info": {
   "codemirror_mode": {
    "name": "ipython",
    "version": 3
   },
   "file_extension": ".py",
   "mimetype": "text/x-python",
   "name": "python",
   "nbconvert_exporter": "python",
   "pygments_lexer": "ipython3",
   "version": "3.8.8"
  }
 },
 "nbformat": 4,
 "nbformat_minor": 5
}
